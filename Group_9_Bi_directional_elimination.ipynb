{
  "nbformat": 4,
  "nbformat_minor": 0,
  "metadata": {
    "colab": {
      "provenance": [],
      "include_colab_link": true
    },
    "kernelspec": {
      "name": "python3",
      "display_name": "Python 3"
    },
    "language_info": {
      "name": "python"
    }
  },
  "cells": [
    {
      "cell_type": "markdown",
      "metadata": {
        "id": "view-in-github",
        "colab_type": "text"
      },
      "source": [
        "<a href=\"https://colab.research.google.com/github/thejeshreddymarripati/LinkedIn-Job-Salary-Prediction/blob/main/Group_9_Bi_directional_elimination.ipynb\" target=\"_parent\"><img src=\"https://colab.research.google.com/assets/colab-badge.svg\" alt=\"Open In Colab\"/></a>"
      ]
    },
    {
      "cell_type": "markdown",
      "source": [
        "# Another variable selection using Bi-directional elimination as a wrapper method"
      ],
      "metadata": {
        "id": "UtW18wxjoQL3"
      }
    },
    {
      "cell_type": "markdown",
      "source": [
        "## Importing the necessary libraries"
      ],
      "metadata": {
        "id": "YFaxR38vvdWH"
      }
    },
    {
      "cell_type": "code",
      "execution_count": null,
      "metadata": {
        "id": "EE-x-R4NvPVF"
      },
      "outputs": [],
      "source": [
        "import numpy as np\n",
        "import pandas as pd\n",
        "import seaborn as sns\n",
        "import matplotlib.pyplot as plt"
      ]
    },
    {
      "cell_type": "markdown",
      "source": [
        "## Reading the cleaned dataset using pandas library"
      ],
      "metadata": {
        "id": "SPte7fU9wT9F"
      }
    },
    {
      "cell_type": "code",
      "source": [
        "df = pd.read_csv(\"/content/cleaned_data.csv\")"
      ],
      "metadata": {
        "id": "IhcRtm70vc6E"
      },
      "execution_count": null,
      "outputs": []
    },
    {
      "cell_type": "code",
      "source": [
        "df"
      ],
      "metadata": {
        "colab": {
          "base_uri": "https://localhost:8080/",
          "height": 615
        },
        "id": "hR6U0P-PviyL",
        "outputId": "b37846af-7168-4856-d284-cd40ac91a53d"
      },
      "execution_count": null,
      "outputs": [
        {
          "output_type": "execute_result",
          "data": {
            "text/plain": [
              "                                   job_title         salary  pay_period  \\\n",
              "0                              Sales Manager   88336.222112           2   \n",
              "1                         Model Risk Auditor   88336.222112           3   \n",
              "2                        NY Studio Assistant   88336.222112           2   \n",
              "3                           Office Associate   42000.000000           2   \n",
              "4                          Education Manager   88336.222112           2   \n",
              "...                                      ...            ...         ...   \n",
              "14338                  Sanitation Technician   88336.222112           1   \n",
              "14339                         Unit Secretary   88336.222112           2   \n",
              "14340                Radiology Aide, Perdiem   88336.222112           1   \n",
              "14341                            MRI Manager  135000.000000           2   \n",
              "14342  Area Director of Business Development   88336.222112           2   \n",
              "\n",
              "       work_type           location  experience_level  sponsored currency  \\\n",
              "0              1  Santa Clarita, CA                 5          0      USD   \n",
              "1              0       New York, NY                 5          0      USD   \n",
              "2              1       New York, NY                 5          1      USD   \n",
              "3              1         Albany, GA                 5          1      USD   \n",
              "4              1      United States                 5          0      USD   \n",
              "...          ...                ...               ...        ...      ...   \n",
              "14338          4  West Columbia, SC                 2          0      USD   \n",
              "14339          1        Teaneck, NJ                 2          0      USD   \n",
              "14340          4        Teaneck, NJ                 2          0      USD   \n",
              "14341          1       New York, NY                 5          0      USD   \n",
              "14342          1      Vicksburg, MS                 5          0      USD   \n",
              "\n",
              "              skills                               company_name  company_size  \\\n",
              "0           SALE, BD                                CargoLogin.           1.0   \n",
              "1          ACCT, FIN                          Employvision Inc.           1.0   \n",
              "2      DSGN, ART, IT                               Ken Fulk Inc           1.0   \n",
              "3                ADM                            Sunnyland Farms           2.0   \n",
              "4          EDU, TRNG                   Paradigm Senior Services           2.0   \n",
              "...              ...                                        ...           ...   \n",
              "14338        ENG, IT                            Aspire Bakeries           5.0   \n",
              "14339            ADM                   Holy Name Medical Center           5.0   \n",
              "14340           HCPR                   Holy Name Medical Center           5.0   \n",
              "14341           OTHR  Columbia University Irving Medical Center           7.0   \n",
              "14342       BD, SALE                              Nexion Health           5.0   \n",
              "\n",
              "       category_ComplexOnsiteApply  category_OffsiteApply  \\\n",
              "0                                1                      0   \n",
              "1                                1                      0   \n",
              "2                                1                      0   \n",
              "3                                1                      0   \n",
              "4                                0                      1   \n",
              "...                            ...                    ...   \n",
              "14338                            0                      1   \n",
              "14339                            0                      1   \n",
              "14340                            0                      1   \n",
              "14341                            0                      1   \n",
              "14342                            1                      0   \n",
              "\n",
              "       category_SimpleOnsiteApply  \n",
              "0                               0  \n",
              "1                               0  \n",
              "2                               0  \n",
              "3                               0  \n",
              "4                               0  \n",
              "...                           ...  \n",
              "14338                           0  \n",
              "14339                           0  \n",
              "14340                           0  \n",
              "14341                           0  \n",
              "14342                           0  \n",
              "\n",
              "[14343 rows x 14 columns]"
            ],
            "text/html": [
              "\n",
              "  <div id=\"df-bc7de41e-f248-438a-b0c3-0e8639255905\" class=\"colab-df-container\">\n",
              "    <div>\n",
              "<style scoped>\n",
              "    .dataframe tbody tr th:only-of-type {\n",
              "        vertical-align: middle;\n",
              "    }\n",
              "\n",
              "    .dataframe tbody tr th {\n",
              "        vertical-align: top;\n",
              "    }\n",
              "\n",
              "    .dataframe thead th {\n",
              "        text-align: right;\n",
              "    }\n",
              "</style>\n",
              "<table border=\"1\" class=\"dataframe\">\n",
              "  <thead>\n",
              "    <tr style=\"text-align: right;\">\n",
              "      <th></th>\n",
              "      <th>job_title</th>\n",
              "      <th>salary</th>\n",
              "      <th>pay_period</th>\n",
              "      <th>work_type</th>\n",
              "      <th>location</th>\n",
              "      <th>experience_level</th>\n",
              "      <th>sponsored</th>\n",
              "      <th>currency</th>\n",
              "      <th>skills</th>\n",
              "      <th>company_name</th>\n",
              "      <th>company_size</th>\n",
              "      <th>category_ComplexOnsiteApply</th>\n",
              "      <th>category_OffsiteApply</th>\n",
              "      <th>category_SimpleOnsiteApply</th>\n",
              "    </tr>\n",
              "  </thead>\n",
              "  <tbody>\n",
              "    <tr>\n",
              "      <th>0</th>\n",
              "      <td>Sales Manager</td>\n",
              "      <td>88336.222112</td>\n",
              "      <td>2</td>\n",
              "      <td>1</td>\n",
              "      <td>Santa Clarita, CA</td>\n",
              "      <td>5</td>\n",
              "      <td>0</td>\n",
              "      <td>USD</td>\n",
              "      <td>SALE, BD</td>\n",
              "      <td>CargoLogin.</td>\n",
              "      <td>1.0</td>\n",
              "      <td>1</td>\n",
              "      <td>0</td>\n",
              "      <td>0</td>\n",
              "    </tr>\n",
              "    <tr>\n",
              "      <th>1</th>\n",
              "      <td>Model Risk Auditor</td>\n",
              "      <td>88336.222112</td>\n",
              "      <td>3</td>\n",
              "      <td>0</td>\n",
              "      <td>New York, NY</td>\n",
              "      <td>5</td>\n",
              "      <td>0</td>\n",
              "      <td>USD</td>\n",
              "      <td>ACCT, FIN</td>\n",
              "      <td>Employvision Inc.</td>\n",
              "      <td>1.0</td>\n",
              "      <td>1</td>\n",
              "      <td>0</td>\n",
              "      <td>0</td>\n",
              "    </tr>\n",
              "    <tr>\n",
              "      <th>2</th>\n",
              "      <td>NY Studio Assistant</td>\n",
              "      <td>88336.222112</td>\n",
              "      <td>2</td>\n",
              "      <td>1</td>\n",
              "      <td>New York, NY</td>\n",
              "      <td>5</td>\n",
              "      <td>1</td>\n",
              "      <td>USD</td>\n",
              "      <td>DSGN, ART, IT</td>\n",
              "      <td>Ken Fulk Inc</td>\n",
              "      <td>1.0</td>\n",
              "      <td>1</td>\n",
              "      <td>0</td>\n",
              "      <td>0</td>\n",
              "    </tr>\n",
              "    <tr>\n",
              "      <th>3</th>\n",
              "      <td>Office Associate</td>\n",
              "      <td>42000.000000</td>\n",
              "      <td>2</td>\n",
              "      <td>1</td>\n",
              "      <td>Albany, GA</td>\n",
              "      <td>5</td>\n",
              "      <td>1</td>\n",
              "      <td>USD</td>\n",
              "      <td>ADM</td>\n",
              "      <td>Sunnyland Farms</td>\n",
              "      <td>2.0</td>\n",
              "      <td>1</td>\n",
              "      <td>0</td>\n",
              "      <td>0</td>\n",
              "    </tr>\n",
              "    <tr>\n",
              "      <th>4</th>\n",
              "      <td>Education Manager</td>\n",
              "      <td>88336.222112</td>\n",
              "      <td>2</td>\n",
              "      <td>1</td>\n",
              "      <td>United States</td>\n",
              "      <td>5</td>\n",
              "      <td>0</td>\n",
              "      <td>USD</td>\n",
              "      <td>EDU, TRNG</td>\n",
              "      <td>Paradigm Senior Services</td>\n",
              "      <td>2.0</td>\n",
              "      <td>0</td>\n",
              "      <td>1</td>\n",
              "      <td>0</td>\n",
              "    </tr>\n",
              "    <tr>\n",
              "      <th>...</th>\n",
              "      <td>...</td>\n",
              "      <td>...</td>\n",
              "      <td>...</td>\n",
              "      <td>...</td>\n",
              "      <td>...</td>\n",
              "      <td>...</td>\n",
              "      <td>...</td>\n",
              "      <td>...</td>\n",
              "      <td>...</td>\n",
              "      <td>...</td>\n",
              "      <td>...</td>\n",
              "      <td>...</td>\n",
              "      <td>...</td>\n",
              "      <td>...</td>\n",
              "    </tr>\n",
              "    <tr>\n",
              "      <th>14338</th>\n",
              "      <td>Sanitation Technician</td>\n",
              "      <td>88336.222112</td>\n",
              "      <td>1</td>\n",
              "      <td>4</td>\n",
              "      <td>West Columbia, SC</td>\n",
              "      <td>2</td>\n",
              "      <td>0</td>\n",
              "      <td>USD</td>\n",
              "      <td>ENG, IT</td>\n",
              "      <td>Aspire Bakeries</td>\n",
              "      <td>5.0</td>\n",
              "      <td>0</td>\n",
              "      <td>1</td>\n",
              "      <td>0</td>\n",
              "    </tr>\n",
              "    <tr>\n",
              "      <th>14339</th>\n",
              "      <td>Unit Secretary</td>\n",
              "      <td>88336.222112</td>\n",
              "      <td>2</td>\n",
              "      <td>1</td>\n",
              "      <td>Teaneck, NJ</td>\n",
              "      <td>2</td>\n",
              "      <td>0</td>\n",
              "      <td>USD</td>\n",
              "      <td>ADM</td>\n",
              "      <td>Holy Name Medical Center</td>\n",
              "      <td>5.0</td>\n",
              "      <td>0</td>\n",
              "      <td>1</td>\n",
              "      <td>0</td>\n",
              "    </tr>\n",
              "    <tr>\n",
              "      <th>14340</th>\n",
              "      <td>Radiology Aide, Perdiem</td>\n",
              "      <td>88336.222112</td>\n",
              "      <td>1</td>\n",
              "      <td>4</td>\n",
              "      <td>Teaneck, NJ</td>\n",
              "      <td>2</td>\n",
              "      <td>0</td>\n",
              "      <td>USD</td>\n",
              "      <td>HCPR</td>\n",
              "      <td>Holy Name Medical Center</td>\n",
              "      <td>5.0</td>\n",
              "      <td>0</td>\n",
              "      <td>1</td>\n",
              "      <td>0</td>\n",
              "    </tr>\n",
              "    <tr>\n",
              "      <th>14341</th>\n",
              "      <td>MRI Manager</td>\n",
              "      <td>135000.000000</td>\n",
              "      <td>2</td>\n",
              "      <td>1</td>\n",
              "      <td>New York, NY</td>\n",
              "      <td>5</td>\n",
              "      <td>0</td>\n",
              "      <td>USD</td>\n",
              "      <td>OTHR</td>\n",
              "      <td>Columbia University Irving Medical Center</td>\n",
              "      <td>7.0</td>\n",
              "      <td>0</td>\n",
              "      <td>1</td>\n",
              "      <td>0</td>\n",
              "    </tr>\n",
              "    <tr>\n",
              "      <th>14342</th>\n",
              "      <td>Area Director of Business Development</td>\n",
              "      <td>88336.222112</td>\n",
              "      <td>2</td>\n",
              "      <td>1</td>\n",
              "      <td>Vicksburg, MS</td>\n",
              "      <td>5</td>\n",
              "      <td>0</td>\n",
              "      <td>USD</td>\n",
              "      <td>BD, SALE</td>\n",
              "      <td>Nexion Health</td>\n",
              "      <td>5.0</td>\n",
              "      <td>1</td>\n",
              "      <td>0</td>\n",
              "      <td>0</td>\n",
              "    </tr>\n",
              "  </tbody>\n",
              "</table>\n",
              "<p>14343 rows × 14 columns</p>\n",
              "</div>\n",
              "    <div class=\"colab-df-buttons\">\n",
              "\n",
              "  <div class=\"colab-df-container\">\n",
              "    <button class=\"colab-df-convert\" onclick=\"convertToInteractive('df-bc7de41e-f248-438a-b0c3-0e8639255905')\"\n",
              "            title=\"Convert this dataframe to an interactive table.\"\n",
              "            style=\"display:none;\">\n",
              "\n",
              "  <svg xmlns=\"http://www.w3.org/2000/svg\" height=\"24px\" viewBox=\"0 -960 960 960\">\n",
              "    <path d=\"M120-120v-720h720v720H120Zm60-500h600v-160H180v160Zm220 220h160v-160H400v160Zm0 220h160v-160H400v160ZM180-400h160v-160H180v160Zm440 0h160v-160H620v160ZM180-180h160v-160H180v160Zm440 0h160v-160H620v160Z\"/>\n",
              "  </svg>\n",
              "    </button>\n",
              "\n",
              "  <style>\n",
              "    .colab-df-container {\n",
              "      display:flex;\n",
              "      gap: 12px;\n",
              "    }\n",
              "\n",
              "    .colab-df-convert {\n",
              "      background-color: #E8F0FE;\n",
              "      border: none;\n",
              "      border-radius: 50%;\n",
              "      cursor: pointer;\n",
              "      display: none;\n",
              "      fill: #1967D2;\n",
              "      height: 32px;\n",
              "      padding: 0 0 0 0;\n",
              "      width: 32px;\n",
              "    }\n",
              "\n",
              "    .colab-df-convert:hover {\n",
              "      background-color: #E2EBFA;\n",
              "      box-shadow: 0px 1px 2px rgba(60, 64, 67, 0.3), 0px 1px 3px 1px rgba(60, 64, 67, 0.15);\n",
              "      fill: #174EA6;\n",
              "    }\n",
              "\n",
              "    .colab-df-buttons div {\n",
              "      margin-bottom: 4px;\n",
              "    }\n",
              "\n",
              "    [theme=dark] .colab-df-convert {\n",
              "      background-color: #3B4455;\n",
              "      fill: #D2E3FC;\n",
              "    }\n",
              "\n",
              "    [theme=dark] .colab-df-convert:hover {\n",
              "      background-color: #434B5C;\n",
              "      box-shadow: 0px 1px 3px 1px rgba(0, 0, 0, 0.15);\n",
              "      filter: drop-shadow(0px 1px 2px rgba(0, 0, 0, 0.3));\n",
              "      fill: #FFFFFF;\n",
              "    }\n",
              "  </style>\n",
              "\n",
              "    <script>\n",
              "      const buttonEl =\n",
              "        document.querySelector('#df-bc7de41e-f248-438a-b0c3-0e8639255905 button.colab-df-convert');\n",
              "      buttonEl.style.display =\n",
              "        google.colab.kernel.accessAllowed ? 'block' : 'none';\n",
              "\n",
              "      async function convertToInteractive(key) {\n",
              "        const element = document.querySelector('#df-bc7de41e-f248-438a-b0c3-0e8639255905');\n",
              "        const dataTable =\n",
              "          await google.colab.kernel.invokeFunction('convertToInteractive',\n",
              "                                                    [key], {});\n",
              "        if (!dataTable) return;\n",
              "\n",
              "        const docLinkHtml = 'Like what you see? Visit the ' +\n",
              "          '<a target=\"_blank\" href=https://colab.research.google.com/notebooks/data_table.ipynb>data table notebook</a>'\n",
              "          + ' to learn more about interactive tables.';\n",
              "        element.innerHTML = '';\n",
              "        dataTable['output_type'] = 'display_data';\n",
              "        await google.colab.output.renderOutput(dataTable, element);\n",
              "        const docLink = document.createElement('div');\n",
              "        docLink.innerHTML = docLinkHtml;\n",
              "        element.appendChild(docLink);\n",
              "      }\n",
              "    </script>\n",
              "  </div>\n",
              "\n",
              "\n",
              "<div id=\"df-b3e740d9-9615-475c-a2ec-67317b21c3d2\">\n",
              "  <button class=\"colab-df-quickchart\" onclick=\"quickchart('df-b3e740d9-9615-475c-a2ec-67317b21c3d2')\"\n",
              "            title=\"Suggest charts\"\n",
              "            style=\"display:none;\">\n",
              "\n",
              "<svg xmlns=\"http://www.w3.org/2000/svg\" height=\"24px\"viewBox=\"0 0 24 24\"\n",
              "     width=\"24px\">\n",
              "    <g>\n",
              "        <path d=\"M19 3H5c-1.1 0-2 .9-2 2v14c0 1.1.9 2 2 2h14c1.1 0 2-.9 2-2V5c0-1.1-.9-2-2-2zM9 17H7v-7h2v7zm4 0h-2V7h2v10zm4 0h-2v-4h2v4z\"/>\n",
              "    </g>\n",
              "</svg>\n",
              "  </button>\n",
              "\n",
              "<style>\n",
              "  .colab-df-quickchart {\n",
              "      --bg-color: #E8F0FE;\n",
              "      --fill-color: #1967D2;\n",
              "      --hover-bg-color: #E2EBFA;\n",
              "      --hover-fill-color: #174EA6;\n",
              "      --disabled-fill-color: #AAA;\n",
              "      --disabled-bg-color: #DDD;\n",
              "  }\n",
              "\n",
              "  [theme=dark] .colab-df-quickchart {\n",
              "      --bg-color: #3B4455;\n",
              "      --fill-color: #D2E3FC;\n",
              "      --hover-bg-color: #434B5C;\n",
              "      --hover-fill-color: #FFFFFF;\n",
              "      --disabled-bg-color: #3B4455;\n",
              "      --disabled-fill-color: #666;\n",
              "  }\n",
              "\n",
              "  .colab-df-quickchart {\n",
              "    background-color: var(--bg-color);\n",
              "    border: none;\n",
              "    border-radius: 50%;\n",
              "    cursor: pointer;\n",
              "    display: none;\n",
              "    fill: var(--fill-color);\n",
              "    height: 32px;\n",
              "    padding: 0;\n",
              "    width: 32px;\n",
              "  }\n",
              "\n",
              "  .colab-df-quickchart:hover {\n",
              "    background-color: var(--hover-bg-color);\n",
              "    box-shadow: 0 1px 2px rgba(60, 64, 67, 0.3), 0 1px 3px 1px rgba(60, 64, 67, 0.15);\n",
              "    fill: var(--button-hover-fill-color);\n",
              "  }\n",
              "\n",
              "  .colab-df-quickchart-complete:disabled,\n",
              "  .colab-df-quickchart-complete:disabled:hover {\n",
              "    background-color: var(--disabled-bg-color);\n",
              "    fill: var(--disabled-fill-color);\n",
              "    box-shadow: none;\n",
              "  }\n",
              "\n",
              "  .colab-df-spinner {\n",
              "    border: 2px solid var(--fill-color);\n",
              "    border-color: transparent;\n",
              "    border-bottom-color: var(--fill-color);\n",
              "    animation:\n",
              "      spin 1s steps(1) infinite;\n",
              "  }\n",
              "\n",
              "  @keyframes spin {\n",
              "    0% {\n",
              "      border-color: transparent;\n",
              "      border-bottom-color: var(--fill-color);\n",
              "      border-left-color: var(--fill-color);\n",
              "    }\n",
              "    20% {\n",
              "      border-color: transparent;\n",
              "      border-left-color: var(--fill-color);\n",
              "      border-top-color: var(--fill-color);\n",
              "    }\n",
              "    30% {\n",
              "      border-color: transparent;\n",
              "      border-left-color: var(--fill-color);\n",
              "      border-top-color: var(--fill-color);\n",
              "      border-right-color: var(--fill-color);\n",
              "    }\n",
              "    40% {\n",
              "      border-color: transparent;\n",
              "      border-right-color: var(--fill-color);\n",
              "      border-top-color: var(--fill-color);\n",
              "    }\n",
              "    60% {\n",
              "      border-color: transparent;\n",
              "      border-right-color: var(--fill-color);\n",
              "    }\n",
              "    80% {\n",
              "      border-color: transparent;\n",
              "      border-right-color: var(--fill-color);\n",
              "      border-bottom-color: var(--fill-color);\n",
              "    }\n",
              "    90% {\n",
              "      border-color: transparent;\n",
              "      border-bottom-color: var(--fill-color);\n",
              "    }\n",
              "  }\n",
              "</style>\n",
              "\n",
              "  <script>\n",
              "    async function quickchart(key) {\n",
              "      const quickchartButtonEl =\n",
              "        document.querySelector('#' + key + ' button');\n",
              "      quickchartButtonEl.disabled = true;  // To prevent multiple clicks.\n",
              "      quickchartButtonEl.classList.add('colab-df-spinner');\n",
              "      try {\n",
              "        const charts = await google.colab.kernel.invokeFunction(\n",
              "            'suggestCharts', [key], {});\n",
              "      } catch (error) {\n",
              "        console.error('Error during call to suggestCharts:', error);\n",
              "      }\n",
              "      quickchartButtonEl.classList.remove('colab-df-spinner');\n",
              "      quickchartButtonEl.classList.add('colab-df-quickchart-complete');\n",
              "    }\n",
              "    (() => {\n",
              "      let quickchartButtonEl =\n",
              "        document.querySelector('#df-b3e740d9-9615-475c-a2ec-67317b21c3d2 button');\n",
              "      quickchartButtonEl.style.display =\n",
              "        google.colab.kernel.accessAllowed ? 'block' : 'none';\n",
              "    })();\n",
              "  </script>\n",
              "</div>\n",
              "    </div>\n",
              "  </div>\n"
            ]
          },
          "metadata": {},
          "execution_count": 4
        }
      ]
    },
    {
      "cell_type": "markdown",
      "source": [
        "## FInding the statistical values of the dataset"
      ],
      "metadata": {
        "id": "JludNyVHwc_I"
      }
    },
    {
      "cell_type": "code",
      "source": [
        "df.describe()"
      ],
      "metadata": {
        "colab": {
          "base_uri": "https://localhost:8080/",
          "height": 300
        },
        "id": "osAFKlkAvjfJ",
        "outputId": "b3695971-d492-4f2b-c6e5-7e5508298b11"
      },
      "execution_count": null,
      "outputs": [
        {
          "output_type": "execute_result",
          "data": {
            "text/plain": [
              "             salary    pay_period     work_type  experience_level  \\\n",
              "count  1.434300e+04  14343.000000  14343.000000      14343.000000   \n",
              "mean   8.858367e+04      2.015687      1.125009          3.615631   \n",
              "std    5.323768e+04      0.463526      0.891822          1.784866   \n",
              "min    1.150000e+01      0.000000      0.000000          0.000000   \n",
              "25%    8.833622e+04      2.000000      1.000000          2.000000   \n",
              "50%    8.833622e+04      2.000000      1.000000          5.000000   \n",
              "75%    8.833622e+04      2.000000      1.000000          5.000000   \n",
              "max    1.100000e+06      3.000000      6.000000          5.000000   \n",
              "\n",
              "          sponsored  company_size  category_ComplexOnsiteApply  \\\n",
              "count  14343.000000  14343.000000                 14343.000000   \n",
              "mean       0.293802      4.913547                     0.309768   \n",
              "std        0.455518      2.033035                     0.462414   \n",
              "min        0.000000      1.000000                     0.000000   \n",
              "25%        0.000000      3.000000                     0.000000   \n",
              "50%        0.000000      5.000000                     0.000000   \n",
              "75%        1.000000      7.000000                     1.000000   \n",
              "max        1.000000      7.000000                     1.000000   \n",
              "\n",
              "       category_OffsiteApply  category_SimpleOnsiteApply  \n",
              "count           14343.000000                14343.000000  \n",
              "mean                0.644286                    0.045946  \n",
              "std                 0.478746                    0.209375  \n",
              "min                 0.000000                    0.000000  \n",
              "25%                 0.000000                    0.000000  \n",
              "50%                 1.000000                    0.000000  \n",
              "75%                 1.000000                    0.000000  \n",
              "max                 1.000000                    1.000000  "
            ],
            "text/html": [
              "\n",
              "  <div id=\"df-ec3fc1c0-a64a-4fa9-915d-c02c1ee12d9c\" class=\"colab-df-container\">\n",
              "    <div>\n",
              "<style scoped>\n",
              "    .dataframe tbody tr th:only-of-type {\n",
              "        vertical-align: middle;\n",
              "    }\n",
              "\n",
              "    .dataframe tbody tr th {\n",
              "        vertical-align: top;\n",
              "    }\n",
              "\n",
              "    .dataframe thead th {\n",
              "        text-align: right;\n",
              "    }\n",
              "</style>\n",
              "<table border=\"1\" class=\"dataframe\">\n",
              "  <thead>\n",
              "    <tr style=\"text-align: right;\">\n",
              "      <th></th>\n",
              "      <th>salary</th>\n",
              "      <th>pay_period</th>\n",
              "      <th>work_type</th>\n",
              "      <th>experience_level</th>\n",
              "      <th>sponsored</th>\n",
              "      <th>company_size</th>\n",
              "      <th>category_ComplexOnsiteApply</th>\n",
              "      <th>category_OffsiteApply</th>\n",
              "      <th>category_SimpleOnsiteApply</th>\n",
              "    </tr>\n",
              "  </thead>\n",
              "  <tbody>\n",
              "    <tr>\n",
              "      <th>count</th>\n",
              "      <td>1.434300e+04</td>\n",
              "      <td>14343.000000</td>\n",
              "      <td>14343.000000</td>\n",
              "      <td>14343.000000</td>\n",
              "      <td>14343.000000</td>\n",
              "      <td>14343.000000</td>\n",
              "      <td>14343.000000</td>\n",
              "      <td>14343.000000</td>\n",
              "      <td>14343.000000</td>\n",
              "    </tr>\n",
              "    <tr>\n",
              "      <th>mean</th>\n",
              "      <td>8.858367e+04</td>\n",
              "      <td>2.015687</td>\n",
              "      <td>1.125009</td>\n",
              "      <td>3.615631</td>\n",
              "      <td>0.293802</td>\n",
              "      <td>4.913547</td>\n",
              "      <td>0.309768</td>\n",
              "      <td>0.644286</td>\n",
              "      <td>0.045946</td>\n",
              "    </tr>\n",
              "    <tr>\n",
              "      <th>std</th>\n",
              "      <td>5.323768e+04</td>\n",
              "      <td>0.463526</td>\n",
              "      <td>0.891822</td>\n",
              "      <td>1.784866</td>\n",
              "      <td>0.455518</td>\n",
              "      <td>2.033035</td>\n",
              "      <td>0.462414</td>\n",
              "      <td>0.478746</td>\n",
              "      <td>0.209375</td>\n",
              "    </tr>\n",
              "    <tr>\n",
              "      <th>min</th>\n",
              "      <td>1.150000e+01</td>\n",
              "      <td>0.000000</td>\n",
              "      <td>0.000000</td>\n",
              "      <td>0.000000</td>\n",
              "      <td>0.000000</td>\n",
              "      <td>1.000000</td>\n",
              "      <td>0.000000</td>\n",
              "      <td>0.000000</td>\n",
              "      <td>0.000000</td>\n",
              "    </tr>\n",
              "    <tr>\n",
              "      <th>25%</th>\n",
              "      <td>8.833622e+04</td>\n",
              "      <td>2.000000</td>\n",
              "      <td>1.000000</td>\n",
              "      <td>2.000000</td>\n",
              "      <td>0.000000</td>\n",
              "      <td>3.000000</td>\n",
              "      <td>0.000000</td>\n",
              "      <td>0.000000</td>\n",
              "      <td>0.000000</td>\n",
              "    </tr>\n",
              "    <tr>\n",
              "      <th>50%</th>\n",
              "      <td>8.833622e+04</td>\n",
              "      <td>2.000000</td>\n",
              "      <td>1.000000</td>\n",
              "      <td>5.000000</td>\n",
              "      <td>0.000000</td>\n",
              "      <td>5.000000</td>\n",
              "      <td>0.000000</td>\n",
              "      <td>1.000000</td>\n",
              "      <td>0.000000</td>\n",
              "    </tr>\n",
              "    <tr>\n",
              "      <th>75%</th>\n",
              "      <td>8.833622e+04</td>\n",
              "      <td>2.000000</td>\n",
              "      <td>1.000000</td>\n",
              "      <td>5.000000</td>\n",
              "      <td>1.000000</td>\n",
              "      <td>7.000000</td>\n",
              "      <td>1.000000</td>\n",
              "      <td>1.000000</td>\n",
              "      <td>0.000000</td>\n",
              "    </tr>\n",
              "    <tr>\n",
              "      <th>max</th>\n",
              "      <td>1.100000e+06</td>\n",
              "      <td>3.000000</td>\n",
              "      <td>6.000000</td>\n",
              "      <td>5.000000</td>\n",
              "      <td>1.000000</td>\n",
              "      <td>7.000000</td>\n",
              "      <td>1.000000</td>\n",
              "      <td>1.000000</td>\n",
              "      <td>1.000000</td>\n",
              "    </tr>\n",
              "  </tbody>\n",
              "</table>\n",
              "</div>\n",
              "    <div class=\"colab-df-buttons\">\n",
              "\n",
              "  <div class=\"colab-df-container\">\n",
              "    <button class=\"colab-df-convert\" onclick=\"convertToInteractive('df-ec3fc1c0-a64a-4fa9-915d-c02c1ee12d9c')\"\n",
              "            title=\"Convert this dataframe to an interactive table.\"\n",
              "            style=\"display:none;\">\n",
              "\n",
              "  <svg xmlns=\"http://www.w3.org/2000/svg\" height=\"24px\" viewBox=\"0 -960 960 960\">\n",
              "    <path d=\"M120-120v-720h720v720H120Zm60-500h600v-160H180v160Zm220 220h160v-160H400v160Zm0 220h160v-160H400v160ZM180-400h160v-160H180v160Zm440 0h160v-160H620v160ZM180-180h160v-160H180v160Zm440 0h160v-160H620v160Z\"/>\n",
              "  </svg>\n",
              "    </button>\n",
              "\n",
              "  <style>\n",
              "    .colab-df-container {\n",
              "      display:flex;\n",
              "      gap: 12px;\n",
              "    }\n",
              "\n",
              "    .colab-df-convert {\n",
              "      background-color: #E8F0FE;\n",
              "      border: none;\n",
              "      border-radius: 50%;\n",
              "      cursor: pointer;\n",
              "      display: none;\n",
              "      fill: #1967D2;\n",
              "      height: 32px;\n",
              "      padding: 0 0 0 0;\n",
              "      width: 32px;\n",
              "    }\n",
              "\n",
              "    .colab-df-convert:hover {\n",
              "      background-color: #E2EBFA;\n",
              "      box-shadow: 0px 1px 2px rgba(60, 64, 67, 0.3), 0px 1px 3px 1px rgba(60, 64, 67, 0.15);\n",
              "      fill: #174EA6;\n",
              "    }\n",
              "\n",
              "    .colab-df-buttons div {\n",
              "      margin-bottom: 4px;\n",
              "    }\n",
              "\n",
              "    [theme=dark] .colab-df-convert {\n",
              "      background-color: #3B4455;\n",
              "      fill: #D2E3FC;\n",
              "    }\n",
              "\n",
              "    [theme=dark] .colab-df-convert:hover {\n",
              "      background-color: #434B5C;\n",
              "      box-shadow: 0px 1px 3px 1px rgba(0, 0, 0, 0.15);\n",
              "      filter: drop-shadow(0px 1px 2px rgba(0, 0, 0, 0.3));\n",
              "      fill: #FFFFFF;\n",
              "    }\n",
              "  </style>\n",
              "\n",
              "    <script>\n",
              "      const buttonEl =\n",
              "        document.querySelector('#df-ec3fc1c0-a64a-4fa9-915d-c02c1ee12d9c button.colab-df-convert');\n",
              "      buttonEl.style.display =\n",
              "        google.colab.kernel.accessAllowed ? 'block' : 'none';\n",
              "\n",
              "      async function convertToInteractive(key) {\n",
              "        const element = document.querySelector('#df-ec3fc1c0-a64a-4fa9-915d-c02c1ee12d9c');\n",
              "        const dataTable =\n",
              "          await google.colab.kernel.invokeFunction('convertToInteractive',\n",
              "                                                    [key], {});\n",
              "        if (!dataTable) return;\n",
              "\n",
              "        const docLinkHtml = 'Like what you see? Visit the ' +\n",
              "          '<a target=\"_blank\" href=https://colab.research.google.com/notebooks/data_table.ipynb>data table notebook</a>'\n",
              "          + ' to learn more about interactive tables.';\n",
              "        element.innerHTML = '';\n",
              "        dataTable['output_type'] = 'display_data';\n",
              "        await google.colab.output.renderOutput(dataTable, element);\n",
              "        const docLink = document.createElement('div');\n",
              "        docLink.innerHTML = docLinkHtml;\n",
              "        element.appendChild(docLink);\n",
              "      }\n",
              "    </script>\n",
              "  </div>\n",
              "\n",
              "\n",
              "<div id=\"df-153ad655-2542-4ecd-b487-322c9f039011\">\n",
              "  <button class=\"colab-df-quickchart\" onclick=\"quickchart('df-153ad655-2542-4ecd-b487-322c9f039011')\"\n",
              "            title=\"Suggest charts\"\n",
              "            style=\"display:none;\">\n",
              "\n",
              "<svg xmlns=\"http://www.w3.org/2000/svg\" height=\"24px\"viewBox=\"0 0 24 24\"\n",
              "     width=\"24px\">\n",
              "    <g>\n",
              "        <path d=\"M19 3H5c-1.1 0-2 .9-2 2v14c0 1.1.9 2 2 2h14c1.1 0 2-.9 2-2V5c0-1.1-.9-2-2-2zM9 17H7v-7h2v7zm4 0h-2V7h2v10zm4 0h-2v-4h2v4z\"/>\n",
              "    </g>\n",
              "</svg>\n",
              "  </button>\n",
              "\n",
              "<style>\n",
              "  .colab-df-quickchart {\n",
              "      --bg-color: #E8F0FE;\n",
              "      --fill-color: #1967D2;\n",
              "      --hover-bg-color: #E2EBFA;\n",
              "      --hover-fill-color: #174EA6;\n",
              "      --disabled-fill-color: #AAA;\n",
              "      --disabled-bg-color: #DDD;\n",
              "  }\n",
              "\n",
              "  [theme=dark] .colab-df-quickchart {\n",
              "      --bg-color: #3B4455;\n",
              "      --fill-color: #D2E3FC;\n",
              "      --hover-bg-color: #434B5C;\n",
              "      --hover-fill-color: #FFFFFF;\n",
              "      --disabled-bg-color: #3B4455;\n",
              "      --disabled-fill-color: #666;\n",
              "  }\n",
              "\n",
              "  .colab-df-quickchart {\n",
              "    background-color: var(--bg-color);\n",
              "    border: none;\n",
              "    border-radius: 50%;\n",
              "    cursor: pointer;\n",
              "    display: none;\n",
              "    fill: var(--fill-color);\n",
              "    height: 32px;\n",
              "    padding: 0;\n",
              "    width: 32px;\n",
              "  }\n",
              "\n",
              "  .colab-df-quickchart:hover {\n",
              "    background-color: var(--hover-bg-color);\n",
              "    box-shadow: 0 1px 2px rgba(60, 64, 67, 0.3), 0 1px 3px 1px rgba(60, 64, 67, 0.15);\n",
              "    fill: var(--button-hover-fill-color);\n",
              "  }\n",
              "\n",
              "  .colab-df-quickchart-complete:disabled,\n",
              "  .colab-df-quickchart-complete:disabled:hover {\n",
              "    background-color: var(--disabled-bg-color);\n",
              "    fill: var(--disabled-fill-color);\n",
              "    box-shadow: none;\n",
              "  }\n",
              "\n",
              "  .colab-df-spinner {\n",
              "    border: 2px solid var(--fill-color);\n",
              "    border-color: transparent;\n",
              "    border-bottom-color: var(--fill-color);\n",
              "    animation:\n",
              "      spin 1s steps(1) infinite;\n",
              "  }\n",
              "\n",
              "  @keyframes spin {\n",
              "    0% {\n",
              "      border-color: transparent;\n",
              "      border-bottom-color: var(--fill-color);\n",
              "      border-left-color: var(--fill-color);\n",
              "    }\n",
              "    20% {\n",
              "      border-color: transparent;\n",
              "      border-left-color: var(--fill-color);\n",
              "      border-top-color: var(--fill-color);\n",
              "    }\n",
              "    30% {\n",
              "      border-color: transparent;\n",
              "      border-left-color: var(--fill-color);\n",
              "      border-top-color: var(--fill-color);\n",
              "      border-right-color: var(--fill-color);\n",
              "    }\n",
              "    40% {\n",
              "      border-color: transparent;\n",
              "      border-right-color: var(--fill-color);\n",
              "      border-top-color: var(--fill-color);\n",
              "    }\n",
              "    60% {\n",
              "      border-color: transparent;\n",
              "      border-right-color: var(--fill-color);\n",
              "    }\n",
              "    80% {\n",
              "      border-color: transparent;\n",
              "      border-right-color: var(--fill-color);\n",
              "      border-bottom-color: var(--fill-color);\n",
              "    }\n",
              "    90% {\n",
              "      border-color: transparent;\n",
              "      border-bottom-color: var(--fill-color);\n",
              "    }\n",
              "  }\n",
              "</style>\n",
              "\n",
              "  <script>\n",
              "    async function quickchart(key) {\n",
              "      const quickchartButtonEl =\n",
              "        document.querySelector('#' + key + ' button');\n",
              "      quickchartButtonEl.disabled = true;  // To prevent multiple clicks.\n",
              "      quickchartButtonEl.classList.add('colab-df-spinner');\n",
              "      try {\n",
              "        const charts = await google.colab.kernel.invokeFunction(\n",
              "            'suggestCharts', [key], {});\n",
              "      } catch (error) {\n",
              "        console.error('Error during call to suggestCharts:', error);\n",
              "      }\n",
              "      quickchartButtonEl.classList.remove('colab-df-spinner');\n",
              "      quickchartButtonEl.classList.add('colab-df-quickchart-complete');\n",
              "    }\n",
              "    (() => {\n",
              "      let quickchartButtonEl =\n",
              "        document.querySelector('#df-153ad655-2542-4ecd-b487-322c9f039011 button');\n",
              "      quickchartButtonEl.style.display =\n",
              "        google.colab.kernel.accessAllowed ? 'block' : 'none';\n",
              "    })();\n",
              "  </script>\n",
              "</div>\n",
              "    </div>\n",
              "  </div>\n"
            ]
          },
          "metadata": {},
          "execution_count": 5
        }
      ]
    },
    {
      "cell_type": "markdown",
      "source": [
        "## Declaring the target variable as y and the independent variables in X"
      ],
      "metadata": {
        "id": "jsvLA4uzwj8Z"
      }
    },
    {
      "cell_type": "code",
      "source": [
        "X = df.drop(['salary','job_title','location','skills','currency','company_name'], axis=1)\n",
        "y = df['salary']"
      ],
      "metadata": {
        "id": "RNBa76mDvrzS"
      },
      "execution_count": null,
      "outputs": []
    },
    {
      "cell_type": "code",
      "source": [
        "X"
      ],
      "metadata": {
        "colab": {
          "base_uri": "https://localhost:8080/",
          "height": 424
        },
        "id": "vB48E0gN5wNY",
        "outputId": "5c87aa40-5cae-4f29-9901-c4a2fb1fe8db"
      },
      "execution_count": null,
      "outputs": [
        {
          "output_type": "execute_result",
          "data": {
            "text/plain": [
              "       pay_period  work_type  experience_level  sponsored  company_size  \\\n",
              "0               2          1                 5          0           1.0   \n",
              "1               3          0                 5          0           1.0   \n",
              "2               2          1                 5          1           1.0   \n",
              "3               2          1                 5          1           2.0   \n",
              "4               2          1                 5          0           2.0   \n",
              "...           ...        ...               ...        ...           ...   \n",
              "14338           1          4                 2          0           5.0   \n",
              "14339           2          1                 2          0           5.0   \n",
              "14340           1          4                 2          0           5.0   \n",
              "14341           2          1                 5          0           7.0   \n",
              "14342           2          1                 5          0           5.0   \n",
              "\n",
              "       category_ComplexOnsiteApply  category_OffsiteApply  \\\n",
              "0                                1                      0   \n",
              "1                                1                      0   \n",
              "2                                1                      0   \n",
              "3                                1                      0   \n",
              "4                                0                      1   \n",
              "...                            ...                    ...   \n",
              "14338                            0                      1   \n",
              "14339                            0                      1   \n",
              "14340                            0                      1   \n",
              "14341                            0                      1   \n",
              "14342                            1                      0   \n",
              "\n",
              "       category_SimpleOnsiteApply  \n",
              "0                               0  \n",
              "1                               0  \n",
              "2                               0  \n",
              "3                               0  \n",
              "4                               0  \n",
              "...                           ...  \n",
              "14338                           0  \n",
              "14339                           0  \n",
              "14340                           0  \n",
              "14341                           0  \n",
              "14342                           0  \n",
              "\n",
              "[14343 rows x 8 columns]"
            ],
            "text/html": [
              "\n",
              "  <div id=\"df-57796248-fa11-47d4-8f5e-1712bdbcf1b6\" class=\"colab-df-container\">\n",
              "    <div>\n",
              "<style scoped>\n",
              "    .dataframe tbody tr th:only-of-type {\n",
              "        vertical-align: middle;\n",
              "    }\n",
              "\n",
              "    .dataframe tbody tr th {\n",
              "        vertical-align: top;\n",
              "    }\n",
              "\n",
              "    .dataframe thead th {\n",
              "        text-align: right;\n",
              "    }\n",
              "</style>\n",
              "<table border=\"1\" class=\"dataframe\">\n",
              "  <thead>\n",
              "    <tr style=\"text-align: right;\">\n",
              "      <th></th>\n",
              "      <th>pay_period</th>\n",
              "      <th>work_type</th>\n",
              "      <th>experience_level</th>\n",
              "      <th>sponsored</th>\n",
              "      <th>company_size</th>\n",
              "      <th>category_ComplexOnsiteApply</th>\n",
              "      <th>category_OffsiteApply</th>\n",
              "      <th>category_SimpleOnsiteApply</th>\n",
              "    </tr>\n",
              "  </thead>\n",
              "  <tbody>\n",
              "    <tr>\n",
              "      <th>0</th>\n",
              "      <td>2</td>\n",
              "      <td>1</td>\n",
              "      <td>5</td>\n",
              "      <td>0</td>\n",
              "      <td>1.0</td>\n",
              "      <td>1</td>\n",
              "      <td>0</td>\n",
              "      <td>0</td>\n",
              "    </tr>\n",
              "    <tr>\n",
              "      <th>1</th>\n",
              "      <td>3</td>\n",
              "      <td>0</td>\n",
              "      <td>5</td>\n",
              "      <td>0</td>\n",
              "      <td>1.0</td>\n",
              "      <td>1</td>\n",
              "      <td>0</td>\n",
              "      <td>0</td>\n",
              "    </tr>\n",
              "    <tr>\n",
              "      <th>2</th>\n",
              "      <td>2</td>\n",
              "      <td>1</td>\n",
              "      <td>5</td>\n",
              "      <td>1</td>\n",
              "      <td>1.0</td>\n",
              "      <td>1</td>\n",
              "      <td>0</td>\n",
              "      <td>0</td>\n",
              "    </tr>\n",
              "    <tr>\n",
              "      <th>3</th>\n",
              "      <td>2</td>\n",
              "      <td>1</td>\n",
              "      <td>5</td>\n",
              "      <td>1</td>\n",
              "      <td>2.0</td>\n",
              "      <td>1</td>\n",
              "      <td>0</td>\n",
              "      <td>0</td>\n",
              "    </tr>\n",
              "    <tr>\n",
              "      <th>4</th>\n",
              "      <td>2</td>\n",
              "      <td>1</td>\n",
              "      <td>5</td>\n",
              "      <td>0</td>\n",
              "      <td>2.0</td>\n",
              "      <td>0</td>\n",
              "      <td>1</td>\n",
              "      <td>0</td>\n",
              "    </tr>\n",
              "    <tr>\n",
              "      <th>...</th>\n",
              "      <td>...</td>\n",
              "      <td>...</td>\n",
              "      <td>...</td>\n",
              "      <td>...</td>\n",
              "      <td>...</td>\n",
              "      <td>...</td>\n",
              "      <td>...</td>\n",
              "      <td>...</td>\n",
              "    </tr>\n",
              "    <tr>\n",
              "      <th>14338</th>\n",
              "      <td>1</td>\n",
              "      <td>4</td>\n",
              "      <td>2</td>\n",
              "      <td>0</td>\n",
              "      <td>5.0</td>\n",
              "      <td>0</td>\n",
              "      <td>1</td>\n",
              "      <td>0</td>\n",
              "    </tr>\n",
              "    <tr>\n",
              "      <th>14339</th>\n",
              "      <td>2</td>\n",
              "      <td>1</td>\n",
              "      <td>2</td>\n",
              "      <td>0</td>\n",
              "      <td>5.0</td>\n",
              "      <td>0</td>\n",
              "      <td>1</td>\n",
              "      <td>0</td>\n",
              "    </tr>\n",
              "    <tr>\n",
              "      <th>14340</th>\n",
              "      <td>1</td>\n",
              "      <td>4</td>\n",
              "      <td>2</td>\n",
              "      <td>0</td>\n",
              "      <td>5.0</td>\n",
              "      <td>0</td>\n",
              "      <td>1</td>\n",
              "      <td>0</td>\n",
              "    </tr>\n",
              "    <tr>\n",
              "      <th>14341</th>\n",
              "      <td>2</td>\n",
              "      <td>1</td>\n",
              "      <td>5</td>\n",
              "      <td>0</td>\n",
              "      <td>7.0</td>\n",
              "      <td>0</td>\n",
              "      <td>1</td>\n",
              "      <td>0</td>\n",
              "    </tr>\n",
              "    <tr>\n",
              "      <th>14342</th>\n",
              "      <td>2</td>\n",
              "      <td>1</td>\n",
              "      <td>5</td>\n",
              "      <td>0</td>\n",
              "      <td>5.0</td>\n",
              "      <td>1</td>\n",
              "      <td>0</td>\n",
              "      <td>0</td>\n",
              "    </tr>\n",
              "  </tbody>\n",
              "</table>\n",
              "<p>14343 rows × 8 columns</p>\n",
              "</div>\n",
              "    <div class=\"colab-df-buttons\">\n",
              "\n",
              "  <div class=\"colab-df-container\">\n",
              "    <button class=\"colab-df-convert\" onclick=\"convertToInteractive('df-57796248-fa11-47d4-8f5e-1712bdbcf1b6')\"\n",
              "            title=\"Convert this dataframe to an interactive table.\"\n",
              "            style=\"display:none;\">\n",
              "\n",
              "  <svg xmlns=\"http://www.w3.org/2000/svg\" height=\"24px\" viewBox=\"0 -960 960 960\">\n",
              "    <path d=\"M120-120v-720h720v720H120Zm60-500h600v-160H180v160Zm220 220h160v-160H400v160Zm0 220h160v-160H400v160ZM180-400h160v-160H180v160Zm440 0h160v-160H620v160ZM180-180h160v-160H180v160Zm440 0h160v-160H620v160Z\"/>\n",
              "  </svg>\n",
              "    </button>\n",
              "\n",
              "  <style>\n",
              "    .colab-df-container {\n",
              "      display:flex;\n",
              "      gap: 12px;\n",
              "    }\n",
              "\n",
              "    .colab-df-convert {\n",
              "      background-color: #E8F0FE;\n",
              "      border: none;\n",
              "      border-radius: 50%;\n",
              "      cursor: pointer;\n",
              "      display: none;\n",
              "      fill: #1967D2;\n",
              "      height: 32px;\n",
              "      padding: 0 0 0 0;\n",
              "      width: 32px;\n",
              "    }\n",
              "\n",
              "    .colab-df-convert:hover {\n",
              "      background-color: #E2EBFA;\n",
              "      box-shadow: 0px 1px 2px rgba(60, 64, 67, 0.3), 0px 1px 3px 1px rgba(60, 64, 67, 0.15);\n",
              "      fill: #174EA6;\n",
              "    }\n",
              "\n",
              "    .colab-df-buttons div {\n",
              "      margin-bottom: 4px;\n",
              "    }\n",
              "\n",
              "    [theme=dark] .colab-df-convert {\n",
              "      background-color: #3B4455;\n",
              "      fill: #D2E3FC;\n",
              "    }\n",
              "\n",
              "    [theme=dark] .colab-df-convert:hover {\n",
              "      background-color: #434B5C;\n",
              "      box-shadow: 0px 1px 3px 1px rgba(0, 0, 0, 0.15);\n",
              "      filter: drop-shadow(0px 1px 2px rgba(0, 0, 0, 0.3));\n",
              "      fill: #FFFFFF;\n",
              "    }\n",
              "  </style>\n",
              "\n",
              "    <script>\n",
              "      const buttonEl =\n",
              "        document.querySelector('#df-57796248-fa11-47d4-8f5e-1712bdbcf1b6 button.colab-df-convert');\n",
              "      buttonEl.style.display =\n",
              "        google.colab.kernel.accessAllowed ? 'block' : 'none';\n",
              "\n",
              "      async function convertToInteractive(key) {\n",
              "        const element = document.querySelector('#df-57796248-fa11-47d4-8f5e-1712bdbcf1b6');\n",
              "        const dataTable =\n",
              "          await google.colab.kernel.invokeFunction('convertToInteractive',\n",
              "                                                    [key], {});\n",
              "        if (!dataTable) return;\n",
              "\n",
              "        const docLinkHtml = 'Like what you see? Visit the ' +\n",
              "          '<a target=\"_blank\" href=https://colab.research.google.com/notebooks/data_table.ipynb>data table notebook</a>'\n",
              "          + ' to learn more about interactive tables.';\n",
              "        element.innerHTML = '';\n",
              "        dataTable['output_type'] = 'display_data';\n",
              "        await google.colab.output.renderOutput(dataTable, element);\n",
              "        const docLink = document.createElement('div');\n",
              "        docLink.innerHTML = docLinkHtml;\n",
              "        element.appendChild(docLink);\n",
              "      }\n",
              "    </script>\n",
              "  </div>\n",
              "\n",
              "\n",
              "<div id=\"df-c497b356-0446-4b8c-9d35-3dc3d554293a\">\n",
              "  <button class=\"colab-df-quickchart\" onclick=\"quickchart('df-c497b356-0446-4b8c-9d35-3dc3d554293a')\"\n",
              "            title=\"Suggest charts\"\n",
              "            style=\"display:none;\">\n",
              "\n",
              "<svg xmlns=\"http://www.w3.org/2000/svg\" height=\"24px\"viewBox=\"0 0 24 24\"\n",
              "     width=\"24px\">\n",
              "    <g>\n",
              "        <path d=\"M19 3H5c-1.1 0-2 .9-2 2v14c0 1.1.9 2 2 2h14c1.1 0 2-.9 2-2V5c0-1.1-.9-2-2-2zM9 17H7v-7h2v7zm4 0h-2V7h2v10zm4 0h-2v-4h2v4z\"/>\n",
              "    </g>\n",
              "</svg>\n",
              "  </button>\n",
              "\n",
              "<style>\n",
              "  .colab-df-quickchart {\n",
              "      --bg-color: #E8F0FE;\n",
              "      --fill-color: #1967D2;\n",
              "      --hover-bg-color: #E2EBFA;\n",
              "      --hover-fill-color: #174EA6;\n",
              "      --disabled-fill-color: #AAA;\n",
              "      --disabled-bg-color: #DDD;\n",
              "  }\n",
              "\n",
              "  [theme=dark] .colab-df-quickchart {\n",
              "      --bg-color: #3B4455;\n",
              "      --fill-color: #D2E3FC;\n",
              "      --hover-bg-color: #434B5C;\n",
              "      --hover-fill-color: #FFFFFF;\n",
              "      --disabled-bg-color: #3B4455;\n",
              "      --disabled-fill-color: #666;\n",
              "  }\n",
              "\n",
              "  .colab-df-quickchart {\n",
              "    background-color: var(--bg-color);\n",
              "    border: none;\n",
              "    border-radius: 50%;\n",
              "    cursor: pointer;\n",
              "    display: none;\n",
              "    fill: var(--fill-color);\n",
              "    height: 32px;\n",
              "    padding: 0;\n",
              "    width: 32px;\n",
              "  }\n",
              "\n",
              "  .colab-df-quickchart:hover {\n",
              "    background-color: var(--hover-bg-color);\n",
              "    box-shadow: 0 1px 2px rgba(60, 64, 67, 0.3), 0 1px 3px 1px rgba(60, 64, 67, 0.15);\n",
              "    fill: var(--button-hover-fill-color);\n",
              "  }\n",
              "\n",
              "  .colab-df-quickchart-complete:disabled,\n",
              "  .colab-df-quickchart-complete:disabled:hover {\n",
              "    background-color: var(--disabled-bg-color);\n",
              "    fill: var(--disabled-fill-color);\n",
              "    box-shadow: none;\n",
              "  }\n",
              "\n",
              "  .colab-df-spinner {\n",
              "    border: 2px solid var(--fill-color);\n",
              "    border-color: transparent;\n",
              "    border-bottom-color: var(--fill-color);\n",
              "    animation:\n",
              "      spin 1s steps(1) infinite;\n",
              "  }\n",
              "\n",
              "  @keyframes spin {\n",
              "    0% {\n",
              "      border-color: transparent;\n",
              "      border-bottom-color: var(--fill-color);\n",
              "      border-left-color: var(--fill-color);\n",
              "    }\n",
              "    20% {\n",
              "      border-color: transparent;\n",
              "      border-left-color: var(--fill-color);\n",
              "      border-top-color: var(--fill-color);\n",
              "    }\n",
              "    30% {\n",
              "      border-color: transparent;\n",
              "      border-left-color: var(--fill-color);\n",
              "      border-top-color: var(--fill-color);\n",
              "      border-right-color: var(--fill-color);\n",
              "    }\n",
              "    40% {\n",
              "      border-color: transparent;\n",
              "      border-right-color: var(--fill-color);\n",
              "      border-top-color: var(--fill-color);\n",
              "    }\n",
              "    60% {\n",
              "      border-color: transparent;\n",
              "      border-right-color: var(--fill-color);\n",
              "    }\n",
              "    80% {\n",
              "      border-color: transparent;\n",
              "      border-right-color: var(--fill-color);\n",
              "      border-bottom-color: var(--fill-color);\n",
              "    }\n",
              "    90% {\n",
              "      border-color: transparent;\n",
              "      border-bottom-color: var(--fill-color);\n",
              "    }\n",
              "  }\n",
              "</style>\n",
              "\n",
              "  <script>\n",
              "    async function quickchart(key) {\n",
              "      const quickchartButtonEl =\n",
              "        document.querySelector('#' + key + ' button');\n",
              "      quickchartButtonEl.disabled = true;  // To prevent multiple clicks.\n",
              "      quickchartButtonEl.classList.add('colab-df-spinner');\n",
              "      try {\n",
              "        const charts = await google.colab.kernel.invokeFunction(\n",
              "            'suggestCharts', [key], {});\n",
              "      } catch (error) {\n",
              "        console.error('Error during call to suggestCharts:', error);\n",
              "      }\n",
              "      quickchartButtonEl.classList.remove('colab-df-spinner');\n",
              "      quickchartButtonEl.classList.add('colab-df-quickchart-complete');\n",
              "    }\n",
              "    (() => {\n",
              "      let quickchartButtonEl =\n",
              "        document.querySelector('#df-c497b356-0446-4b8c-9d35-3dc3d554293a button');\n",
              "      quickchartButtonEl.style.display =\n",
              "        google.colab.kernel.accessAllowed ? 'block' : 'none';\n",
              "    })();\n",
              "  </script>\n",
              "</div>\n",
              "    </div>\n",
              "  </div>\n"
            ]
          },
          "metadata": {},
          "execution_count": 7
        }
      ]
    },
    {
      "cell_type": "code",
      "source": [
        "y"
      ],
      "metadata": {
        "colab": {
          "base_uri": "https://localhost:8080/"
        },
        "id": "GekYD1TAoqhx",
        "outputId": "1cd0041b-b7a5-4eca-ded3-2fd295b4a722"
      },
      "execution_count": null,
      "outputs": [
        {
          "output_type": "execute_result",
          "data": {
            "text/plain": [
              "0         88336.222112\n",
              "1         88336.222112\n",
              "2         88336.222112\n",
              "3         42000.000000\n",
              "4         88336.222112\n",
              "             ...      \n",
              "14338     88336.222112\n",
              "14339     88336.222112\n",
              "14340     88336.222112\n",
              "14341    135000.000000\n",
              "14342     88336.222112\n",
              "Name: salary, Length: 14343, dtype: float64"
            ]
          },
          "metadata": {},
          "execution_count": 8
        }
      ]
    },
    {
      "cell_type": "markdown",
      "source": [
        "## Getting the dimmensions of X and y using shape"
      ],
      "metadata": {
        "id": "W2SvdK9zwxtu"
      }
    },
    {
      "cell_type": "code",
      "source": [
        "X.shape"
      ],
      "metadata": {
        "colab": {
          "base_uri": "https://localhost:8080/"
        },
        "id": "ENSyod1yvub4",
        "outputId": "5b611f4f-790b-4956-f945-87c2a027a429"
      },
      "execution_count": null,
      "outputs": [
        {
          "output_type": "execute_result",
          "data": {
            "text/plain": [
              "(14343, 8)"
            ]
          },
          "metadata": {},
          "execution_count": 9
        }
      ]
    },
    {
      "cell_type": "code",
      "source": [
        "y.shape"
      ],
      "metadata": {
        "colab": {
          "base_uri": "https://localhost:8080/"
        },
        "id": "HeJApbuAvxwr",
        "outputId": "58446ba2-815e-4f76-b15b-5384715ef13d"
      },
      "execution_count": null,
      "outputs": [
        {
          "output_type": "execute_result",
          "data": {
            "text/plain": [
              "(14343,)"
            ]
          },
          "metadata": {},
          "execution_count": 10
        }
      ]
    },
    {
      "cell_type": "markdown",
      "source": [
        "## Splitting the data into two parts train and test using sklearns train_test_split"
      ],
      "metadata": {
        "id": "x0Xa4Xruv_Vl"
      }
    },
    {
      "cell_type": "code",
      "source": [
        "from sklearn.model_selection import train_test_split\n",
        "X_train, X_test, y_train, y_test = train_test_split(X, y, test_size=0.2, random_state=42)"
      ],
      "metadata": {
        "id": "0pcPXLUwvymf"
      },
      "execution_count": null,
      "outputs": []
    },
    {
      "cell_type": "markdown",
      "source": [
        "## Dimensions of  the splitted datasets"
      ],
      "metadata": {
        "id": "vfr6gv1Kw-I5"
      }
    },
    {
      "cell_type": "code",
      "source": [
        "X_train.shape"
      ],
      "metadata": {
        "colab": {
          "base_uri": "https://localhost:8080/"
        },
        "id": "LkYZdLUCv32D",
        "outputId": "cf6cfd40-9eff-4862-d326-bfe53da6ce0e"
      },
      "execution_count": null,
      "outputs": [
        {
          "output_type": "execute_result",
          "data": {
            "text/plain": [
              "(11474, 8)"
            ]
          },
          "metadata": {},
          "execution_count": 12
        }
      ]
    },
    {
      "cell_type": "code",
      "source": [
        "X_test.shape"
      ],
      "metadata": {
        "colab": {
          "base_uri": "https://localhost:8080/"
        },
        "id": "rDrhqCWWwK2G",
        "outputId": "e834fc69-c039-44fa-fb66-c197779b218f"
      },
      "execution_count": null,
      "outputs": [
        {
          "output_type": "execute_result",
          "data": {
            "text/plain": [
              "(2869, 8)"
            ]
          },
          "metadata": {},
          "execution_count": 13
        }
      ]
    },
    {
      "cell_type": "markdown",
      "source": [
        "## Scaling the data set using StandardScaler"
      ],
      "metadata": {
        "id": "HRQvswdLxQgR"
      }
    },
    {
      "cell_type": "code",
      "source": [
        "from sklearn.preprocessing import StandardScaler\n",
        "scaler = StandardScaler()\n",
        "X_train_scaled = scaler.fit_transform(X_train)\n",
        "X_test_scaled = scaler.transform(X_test)"
      ],
      "metadata": {
        "id": "qj4K6T17wMDr"
      },
      "execution_count": null,
      "outputs": []
    },
    {
      "cell_type": "code",
      "source": [
        "y_train = scaler.fit_transform(y_train.values.reshape(-1, 1))\n",
        "y_test = scaler.transform(y_test.values.reshape(-1, 1))"
      ],
      "metadata": {
        "id": "rtbQdCI-xZbl"
      },
      "execution_count": null,
      "outputs": []
    },
    {
      "cell_type": "markdown",
      "source": [
        "## Now, lets initialize the best model from the step 1 and step 3 which is RandomForestRegressor"
      ],
      "metadata": {
        "id": "jXmzw3nAxtnH"
      }
    },
    {
      "cell_type": "markdown",
      "source": [
        "## Importing the RandomForestRegressor from sklearn library and setting the best hyperparameter values obtained from step 3"
      ],
      "metadata": {
        "id": "pOHlCpOpx7pZ"
      }
    },
    {
      "cell_type": "code",
      "source": [
        "from sklearn.ensemble import RandomForestRegressor\n",
        "best_model = RandomForestRegressor(bootstrap = True, max_depth = 20, min_samples_leaf = 4, min_samples_split = 10, n_estimators = 50, random_state=42)"
      ],
      "metadata": {
        "id": "xbWmqF1cxeSZ"
      },
      "execution_count": null,
      "outputs": []
    },
    {
      "cell_type": "markdown",
      "source": [
        "\n",
        "## Training the model which is called fitting"
      ],
      "metadata": {
        "id": "piPANEiIy0IF"
      }
    },
    {
      "cell_type": "code",
      "source": [
        "best_model.fit(X_train, y_train)"
      ],
      "metadata": {
        "colab": {
          "base_uri": "https://localhost:8080/",
          "height": 127
        },
        "id": "1hz7AS3Yyv--",
        "outputId": "2510935b-64bb-4d12-d22e-11115f3a1066"
      },
      "execution_count": null,
      "outputs": [
        {
          "output_type": "stream",
          "name": "stderr",
          "text": [
            "<ipython-input-17-180deabc21e6>:1: DataConversionWarning: A column-vector y was passed when a 1d array was expected. Please change the shape of y to (n_samples,), for example using ravel().\n",
            "  best_model.fit(X_train, y_train)\n"
          ]
        },
        {
          "output_type": "execute_result",
          "data": {
            "text/plain": [
              "RandomForestRegressor(max_depth=20, min_samples_leaf=4, min_samples_split=10,\n",
              "                      n_estimators=50, random_state=42)"
            ],
            "text/html": [
              "<style>#sk-container-id-1 {color: black;background-color: white;}#sk-container-id-1 pre{padding: 0;}#sk-container-id-1 div.sk-toggleable {background-color: white;}#sk-container-id-1 label.sk-toggleable__label {cursor: pointer;display: block;width: 100%;margin-bottom: 0;padding: 0.3em;box-sizing: border-box;text-align: center;}#sk-container-id-1 label.sk-toggleable__label-arrow:before {content: \"▸\";float: left;margin-right: 0.25em;color: #696969;}#sk-container-id-1 label.sk-toggleable__label-arrow:hover:before {color: black;}#sk-container-id-1 div.sk-estimator:hover label.sk-toggleable__label-arrow:before {color: black;}#sk-container-id-1 div.sk-toggleable__content {max-height: 0;max-width: 0;overflow: hidden;text-align: left;background-color: #f0f8ff;}#sk-container-id-1 div.sk-toggleable__content pre {margin: 0.2em;color: black;border-radius: 0.25em;background-color: #f0f8ff;}#sk-container-id-1 input.sk-toggleable__control:checked~div.sk-toggleable__content {max-height: 200px;max-width: 100%;overflow: auto;}#sk-container-id-1 input.sk-toggleable__control:checked~label.sk-toggleable__label-arrow:before {content: \"▾\";}#sk-container-id-1 div.sk-estimator input.sk-toggleable__control:checked~label.sk-toggleable__label {background-color: #d4ebff;}#sk-container-id-1 div.sk-label input.sk-toggleable__control:checked~label.sk-toggleable__label {background-color: #d4ebff;}#sk-container-id-1 input.sk-hidden--visually {border: 0;clip: rect(1px 1px 1px 1px);clip: rect(1px, 1px, 1px, 1px);height: 1px;margin: -1px;overflow: hidden;padding: 0;position: absolute;width: 1px;}#sk-container-id-1 div.sk-estimator {font-family: monospace;background-color: #f0f8ff;border: 1px dotted black;border-radius: 0.25em;box-sizing: border-box;margin-bottom: 0.5em;}#sk-container-id-1 div.sk-estimator:hover {background-color: #d4ebff;}#sk-container-id-1 div.sk-parallel-item::after {content: \"\";width: 100%;border-bottom: 1px solid gray;flex-grow: 1;}#sk-container-id-1 div.sk-label:hover label.sk-toggleable__label {background-color: #d4ebff;}#sk-container-id-1 div.sk-serial::before {content: \"\";position: absolute;border-left: 1px solid gray;box-sizing: border-box;top: 0;bottom: 0;left: 50%;z-index: 0;}#sk-container-id-1 div.sk-serial {display: flex;flex-direction: column;align-items: center;background-color: white;padding-right: 0.2em;padding-left: 0.2em;position: relative;}#sk-container-id-1 div.sk-item {position: relative;z-index: 1;}#sk-container-id-1 div.sk-parallel {display: flex;align-items: stretch;justify-content: center;background-color: white;position: relative;}#sk-container-id-1 div.sk-item::before, #sk-container-id-1 div.sk-parallel-item::before {content: \"\";position: absolute;border-left: 1px solid gray;box-sizing: border-box;top: 0;bottom: 0;left: 50%;z-index: -1;}#sk-container-id-1 div.sk-parallel-item {display: flex;flex-direction: column;z-index: 1;position: relative;background-color: white;}#sk-container-id-1 div.sk-parallel-item:first-child::after {align-self: flex-end;width: 50%;}#sk-container-id-1 div.sk-parallel-item:last-child::after {align-self: flex-start;width: 50%;}#sk-container-id-1 div.sk-parallel-item:only-child::after {width: 0;}#sk-container-id-1 div.sk-dashed-wrapped {border: 1px dashed gray;margin: 0 0.4em 0.5em 0.4em;box-sizing: border-box;padding-bottom: 0.4em;background-color: white;}#sk-container-id-1 div.sk-label label {font-family: monospace;font-weight: bold;display: inline-block;line-height: 1.2em;}#sk-container-id-1 div.sk-label-container {text-align: center;}#sk-container-id-1 div.sk-container {/* jupyter's `normalize.less` sets `[hidden] { display: none; }` but bootstrap.min.css set `[hidden] { display: none !important; }` so we also need the `!important` here to be able to override the default hidden behavior on the sphinx rendered scikit-learn.org. See: https://github.com/scikit-learn/scikit-learn/issues/21755 */display: inline-block !important;position: relative;}#sk-container-id-1 div.sk-text-repr-fallback {display: none;}</style><div id=\"sk-container-id-1\" class=\"sk-top-container\"><div class=\"sk-text-repr-fallback\"><pre>RandomForestRegressor(max_depth=20, min_samples_leaf=4, min_samples_split=10,\n",
              "                      n_estimators=50, random_state=42)</pre><b>In a Jupyter environment, please rerun this cell to show the HTML representation or trust the notebook. <br />On GitHub, the HTML representation is unable to render, please try loading this page with nbviewer.org.</b></div><div class=\"sk-container\" hidden><div class=\"sk-item\"><div class=\"sk-estimator sk-toggleable\"><input class=\"sk-toggleable__control sk-hidden--visually\" id=\"sk-estimator-id-1\" type=\"checkbox\" checked><label for=\"sk-estimator-id-1\" class=\"sk-toggleable__label sk-toggleable__label-arrow\">RandomForestRegressor</label><div class=\"sk-toggleable__content\"><pre>RandomForestRegressor(max_depth=20, min_samples_leaf=4, min_samples_split=10,\n",
              "                      n_estimators=50, random_state=42)</pre></div></div></div></div></div>"
            ]
          },
          "metadata": {},
          "execution_count": 17
        }
      ]
    },
    {
      "cell_type": "code",
      "source": [
        "y_pred = best_model.predict(X_test)"
      ],
      "metadata": {
        "id": "lZf_cYT6Anmb"
      },
      "execution_count": null,
      "outputs": []
    },
    {
      "cell_type": "markdown",
      "source": [
        "## Evaluating the performance of the model using Mean Squared Error (MSE) and R^2 Score before selectinf features"
      ],
      "metadata": {
        "id": "LtFp9uuLA0oP"
      }
    },
    {
      "cell_type": "code",
      "source": [
        "from sklearn.metrics import mean_squared_error\n",
        "mse_bm_before = mean_squared_error(y_test, y_pred)\n",
        "print(f\"Mean Squared Error without selected features: {mse_bm_before}\")"
      ],
      "metadata": {
        "colab": {
          "base_uri": "https://localhost:8080/"
        },
        "id": "CyTZAALxAQMd",
        "outputId": "a08614c2-baf9-418e-c30a-9011a42880f6"
      },
      "execution_count": null,
      "outputs": [
        {
          "output_type": "stream",
          "name": "stdout",
          "text": [
            "Mean Squared Error without selected features: 0.7232365683045799\n"
          ]
        }
      ]
    },
    {
      "cell_type": "code",
      "source": [
        "from sklearn.metrics import r2_score\n",
        "r2_bm_before = r2_score(y_test, y_pred)\n",
        "print(\"R^2 Score without selected features:\",r2_bm_before)"
      ],
      "metadata": {
        "colab": {
          "base_uri": "https://localhost:8080/"
        },
        "id": "7WAQIKJNAQUC",
        "outputId": "ee9adfbb-d254-40aa-a1f5-c5e577bbce1d"
      },
      "execution_count": null,
      "outputs": [
        {
          "output_type": "stream",
          "name": "stdout",
          "text": [
            "R^2 Score without selected features: 0.0995113974754196\n"
          ]
        }
      ]
    },
    {
      "cell_type": "markdown",
      "source": [
        "## So now, lets perform Bi-directional elimination as a wrapper method using forward eliminatio. Here we used RFE, Recursive Feature Elimination. It is a feature selection technique commonly used in machine learning to select the most important features for a given model"
      ],
      "metadata": {
        "id": "H6_4qKh0zp8T"
      }
    },
    {
      "cell_type": "code",
      "source": [
        "y_train_flat = y_train.ravel()"
      ],
      "metadata": {
        "id": "O7uTIPai3Xfs"
      },
      "execution_count": null,
      "outputs": []
    },
    {
      "cell_type": "code",
      "source": [
        "from sklearn.feature_selection import RFE\n",
        "selector = RFE(best_model, n_features_to_select=2)\n",
        "selector = selector.fit(X_train, y_train_flat)"
      ],
      "metadata": {
        "id": "-_KCkXJhy34v"
      },
      "execution_count": null,
      "outputs": []
    },
    {
      "cell_type": "markdown",
      "source": [
        "## Getting selected feature indices"
      ],
      "metadata": {
        "id": "177MDXok3laA"
      }
    },
    {
      "cell_type": "code",
      "source": [
        "selected_features = selector.support_"
      ],
      "metadata": {
        "id": "_1s-G-Sr2XXI"
      },
      "execution_count": null,
      "outputs": []
    },
    {
      "cell_type": "code",
      "source": [
        "selected_features"
      ],
      "metadata": {
        "colab": {
          "base_uri": "https://localhost:8080/"
        },
        "id": "lQhKt8jt5EAG",
        "outputId": "ead2cf3b-d186-44d1-b77d-9a80bfc083b3"
      },
      "execution_count": null,
      "outputs": [
        {
          "output_type": "execute_result",
          "data": {
            "text/plain": [
              "array([False,  True,  True, False, False, False, False, False])"
            ]
          },
          "metadata": {},
          "execution_count": 24
        }
      ]
    },
    {
      "cell_type": "markdown",
      "source": [
        "## From the above cell the True represents that the respective feature is selected and False represents that those features are not selected"
      ],
      "metadata": {
        "id": "EE55U62w6hNd"
      }
    },
    {
      "cell_type": "code",
      "source": [
        "X.columns"
      ],
      "metadata": {
        "colab": {
          "base_uri": "https://localhost:8080/"
        },
        "id": "mZvC7hpk5hPJ",
        "outputId": "af9a280e-47d6-4647-e816-fe4fb7e2ada7"
      },
      "execution_count": null,
      "outputs": [
        {
          "output_type": "execute_result",
          "data": {
            "text/plain": [
              "Index(['pay_period', 'work_type', 'experience_level', 'sponsored',\n",
              "       'company_size', 'category_ComplexOnsiteApply', 'category_OffsiteApply',\n",
              "       'category_SimpleOnsiteApply'],\n",
              "      dtype='object')"
            ]
          },
          "metadata": {},
          "execution_count": 25
        }
      ]
    },
    {
      "cell_type": "markdown",
      "source": [
        "## So, from the above two cells we can conclude that using RFE forward elimination the selected features are \"work_type\" and \"experience_level\""
      ],
      "metadata": {
        "id": "tQhgxq-a6DNA"
      }
    },
    {
      "cell_type": "markdown",
      "source": [
        "## So we can say that another variable selected is \"work_type\" because \"experience_level\" variable is already selected."
      ],
      "metadata": {
        "id": "wGi6Ck1xpGEh"
      }
    },
    {
      "cell_type": "markdown",
      "source": [
        "## Note: we can also go for more than 2 features selection also"
      ],
      "metadata": {
        "id": "ngmbwfO7pb3x"
      }
    },
    {
      "cell_type": "markdown",
      "source": [
        "## Now lets update the X_train and X_test with selected features"
      ],
      "metadata": {
        "id": "7Ct2Rrdt3wq1"
      }
    },
    {
      "cell_type": "code",
      "source": [
        "X_train_selected = X_train.loc[:, selected_features]\n",
        "X_test_selected = X_test.loc[:, selected_features]"
      ],
      "metadata": {
        "id": "jwL9KOBR3khi"
      },
      "execution_count": null,
      "outputs": []
    },
    {
      "cell_type": "markdown",
      "source": [
        "## Now, Lets Train and Evaluate the Model with Selected Features"
      ],
      "metadata": {
        "id": "qhhdMc_a4SsR"
      }
    },
    {
      "cell_type": "code",
      "source": [
        "best_model.fit(X_train_selected, y_train_flat)\n",
        "y_pred = best_model.predict(X_test_selected)"
      ],
      "metadata": {
        "id": "1HKRXU1H3z4R"
      },
      "execution_count": null,
      "outputs": []
    },
    {
      "cell_type": "markdown",
      "source": [
        "## Evaluating the performance of the model using Mean Squared Error (MSE) and R^2 Score after selectinf features"
      ],
      "metadata": {
        "id": "9-VPcGlR4XT5"
      }
    },
    {
      "cell_type": "code",
      "source": [
        "from sklearn.metrics import mean_squared_error\n",
        "mse_bm_after = mean_squared_error(y_test, y_pred)\n",
        "print(f\"Mean Squared Error with selected features: {mse_bm_after}\")"
      ],
      "metadata": {
        "colab": {
          "base_uri": "https://localhost:8080/"
        },
        "id": "U1ytAH9U35HV",
        "outputId": "4ba2b5c9-54d6-408a-b66c-f4b2bf641a97"
      },
      "execution_count": null,
      "outputs": [
        {
          "output_type": "stream",
          "name": "stdout",
          "text": [
            "Mean Squared Error with selected features: 0.7204295656690304\n"
          ]
        }
      ]
    },
    {
      "cell_type": "code",
      "source": [
        "from sklearn.metrics import r2_score\n",
        "r2_bm_after = r2_score(y_test, y_pred)\n",
        "print(\"R^2 Score with selected features:\",r2_bm_after)"
      ],
      "metadata": {
        "colab": {
          "base_uri": "https://localhost:8080/"
        },
        "id": "rOw_1AKs4HOV",
        "outputId": "e92bc587-4a73-4659-ca6e-f6608913e7d2"
      },
      "execution_count": null,
      "outputs": [
        {
          "output_type": "stream",
          "name": "stdout",
          "text": [
            "R^2 Score with selected features: 0.10300634503662243\n"
          ]
        }
      ]
    },
    {
      "cell_type": "markdown",
      "source": [
        "## Now lets find the ranking of all the features based on the RFE elimination"
      ],
      "metadata": {
        "id": "eNE3_s32rSg4"
      }
    },
    {
      "cell_type": "code",
      "source": [
        "ranking = selector.ranking_\n",
        "features = X.columns\n",
        "feature_ranking = list(zip(features, ranking))\n",
        "feature_ranking.sort(key=lambda x: x[1],reverse=True)"
      ],
      "metadata": {
        "id": "toFP1ISVrPcH"
      },
      "execution_count": null,
      "outputs": []
    },
    {
      "cell_type": "markdown",
      "source": [
        "## Lets plot the ranks for better understanding"
      ],
      "metadata": {
        "id": "aaEl62WnrdYv"
      }
    },
    {
      "cell_type": "code",
      "source": [
        "plt.figure(figsize=(10, 6))\n",
        "plt.barh(range(len(feature_ranking)), [rank for _, rank in feature_ranking], align=\"center\")\n",
        "plt.yticks(range(len(feature_ranking)), [feature for feature, _ in feature_ranking])\n",
        "plt.xlabel('Ranking')\n",
        "plt.ylabel('Features')\n",
        "plt.title('Feature Ranking using RFE')\n",
        "plt.show()"
      ],
      "metadata": {
        "colab": {
          "base_uri": "https://localhost:8080/",
          "height": 564
        },
        "id": "86LEGkONqwKf",
        "outputId": "ad8b9fad-d5d1-4b86-82e0-2fe978a244e6"
      },
      "execution_count": null,
      "outputs": [
        {
          "output_type": "display_data",
          "data": {
            "text/plain": [
              "<Figure size 1000x600 with 1 Axes>"
            ],
            "image/png": "[encoded data removed]"
          },
          "metadata": {}
        }
      ]
    },
    {
      "cell_type": "markdown",
      "source": [
        "## From the above plot you can se the sorted order of the feature selection based on the RFE elimination. Here, \"experience_level\" and \"work_type\" are ranked first followed by \"pay_period\" at 2nd, \"company_size\" at 3rd and so on.."
      ],
      "metadata": {
        "id": "aSJpNr0zrnmv"
      }
    },
    {
      "cell_type": "markdown",
      "source": [
        "## Dataframe of selected features for the first 10 samples"
      ],
      "metadata": {
        "id": "dsRCZe_fDJ77"
      }
    },
    {
      "cell_type": "code",
      "source": [
        "selected_features_df = X_train.iloc[:10, selected_features]"
      ],
      "metadata": {
        "id": "brk1tN_rCgtc"
      },
      "execution_count": null,
      "outputs": []
    },
    {
      "cell_type": "markdown",
      "source": [
        "## Creating the Heat map"
      ],
      "metadata": {
        "id": "KxNYSzYyDCQN"
      }
    },
    {
      "cell_type": "code",
      "source": [
        "plt.figure(figsize=(10, 6))\n",
        "sns.heatmap(selected_features_df, cmap='coolwarm', cbar=False, annot=True)\n",
        "plt.title('Heatmap of Selected Features')\n",
        "plt.show()"
      ],
      "metadata": {
        "colab": {
          "base_uri": "https://localhost:8080/",
          "height": 545
        },
        "id": "gabP1_5qC-R8",
        "outputId": "434d9e87-5b7a-422b-d59e-b02480e01ceb"
      },
      "execution_count": null,
      "outputs": [
        {
          "output_type": "display_data",
          "data": {
            "text/plain": [
              "<Figure size 1000x600 with 1 Axes>"
            ],
            "image/png": "[encoded data removed]"
          },
          "metadata": {}
        }
      ]
    },
    {
      "cell_type": "markdown",
      "source": [
        "## From the above heat map we can observe that though the experience_level variable has high chance of selection the work_type variable shows significant selction chance too."
      ],
      "metadata": {
        "id": "l1Sas_aVqgC9"
      }
    },
    {
      "cell_type": "markdown",
      "source": [
        "## Evaluation metric plots"
      ],
      "metadata": {
        "id": "Pg0g2A-gDRwL"
      }
    },
    {
      "cell_type": "markdown",
      "source": [
        "## Plotting the evaluation metrics using plt library"
      ],
      "metadata": {
        "id": "5VtE_tMsrWWZ"
      }
    },
    {
      "cell_type": "code",
      "source": [
        "fig, axs = plt.subplots(1, 2, figsize=(15, 5))\n",
        "\n",
        "# Mean Squared Error (MSE)\n",
        "axs[0].scatter(y_test, y_pred, alpha=0.5)\n",
        "axs[0].plot([min(y_test), max(y_test)], [min(y_test), max(y_test)], 'k--', lw=2)\n",
        "axs[0].set_title(f'MSE: {mse_bm_before:.4f}')\n",
        "axs[0].set_xlabel('Actual')\n",
        "axs[0].set_ylabel('Predicted')\n",
        "\n",
        "# R^2 Score\n",
        "axs[1].scatter(y_test, y_pred, alpha=0.5)\n",
        "axs[1].plot([min(y_test), max(y_test)], [min(y_test), max(y_test)], 'k--', lw=2)\n",
        "axs[1].set_title(f'R^2 Score: {r2_bm_before:.4f}')\n",
        "axs[1].set_xlabel('Actual')\n",
        "axs[1].set_ylabel('Predicted')\n",
        "\n",
        "plt.tight_layout()\n",
        "plt.show()"
      ],
      "metadata": {
        "colab": {
          "base_uri": "https://localhost:8080/",
          "height": 507
        },
        "id": "thMBOrtm4y10",
        "outputId": "c5256bb2-ee4b-4408-98bf-1d0059cd1f81"
      },
      "execution_count": null,
      "outputs": [
        {
          "output_type": "display_data",
          "data": {
            "text/plain": [
              "<Figure size 1500x500 with 2 Axes>"
            ],
            "image/png": "[encoded data removed]"
          },
          "metadata": {}
        }
      ]
    },
    {
      "cell_type": "markdown",
      "source": [
        "## Barplot of MSE values before and after the features selection"
      ],
      "metadata": {
        "id": "5RJUydwCBHoF"
      }
    },
    {
      "cell_type": "code",
      "source": [
        "# Data for the bar chart\n",
        "categories = ['Before Bidirectional Elimination', 'After Bidirectional Elimination']\n",
        "mse_values = [mse_bm_before, mse_bm_after]\n",
        "\n",
        "# Plotting the bar chart\n",
        "plt.bar(categories, mse_values, color=['blue', 'green'])\n",
        "plt.ylabel('Mean Squared Error')\n",
        "plt.title('MSE Comparison Before and After Bidirectional Elimination')\n",
        "plt.ylim(0, max(mse_values) + 0.2)\n",
        "plt.show()"
      ],
      "metadata": {
        "colab": {
          "base_uri": "https://localhost:8080/",
          "height": 452
        },
        "id": "5KvGd-Vh_ijV",
        "outputId": "e4f04891-8170-46a2-ed09-befc8f7a5bda"
      },
      "execution_count": null,
      "outputs": [
        {
          "output_type": "display_data",
          "data": {
            "text/plain": [
              "<Figure size 640x480 with 1 Axes>"
            ],
            "image/png": "[encoded data removed]"
          },
          "metadata": {}
        }
      ]
    },
    {
      "cell_type": "markdown",
      "source": [
        "## From the above bar plot we can see that there is no significant drop in the evaluation measures before and after the bidirectional elimination, this is because the selected feature is same before and after the bi-directional elimination. But adding another feature to the model we can observe from the MSE values that there is a little drop of the value from 0.7232 to 0.7204"
      ],
      "metadata": {
        "id": "0i0BGdhRBwNi"
      }
    },
    {
      "cell_type": "markdown",
      "source": [
        "## From the above visualizations, the experience_level variable is dominating the other variable. It is evident that the metrics are not that changed or dropped because of the domination of experience_level variable over other variables"
      ],
      "metadata": {
        "id": "xU1hvVwNquT_"
      }
    },
    {
      "cell_type": "code",
      "source": [],
      "metadata": {
        "id": "YhwmK5iOBSWI"
      },
      "execution_count": null,
      "outputs": []
    }
  ]
}